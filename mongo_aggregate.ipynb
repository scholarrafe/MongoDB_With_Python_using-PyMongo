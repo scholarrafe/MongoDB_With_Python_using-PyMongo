{
 "cells": [
  {
   "cell_type": "code",
   "execution_count": 2,
   "id": "c1ccd8c2-e1c2-4d21-a626-401cb195fe5e",
   "metadata": {},
   "outputs": [],
   "source": [
    "from pymongo import MongoClient\n",
    "from bson.objectid import ObjectId"
   ]
  },
  {
   "cell_type": "code",
   "execution_count": 4,
   "id": "e4ac3d3f-7734-485e-8330-a1a6ee3ea1c1",
   "metadata": {},
   "outputs": [],
   "source": [
    "client = MongoClient('localhost', 27017)\n",
    "db = client.first_mongo\n",
    "book = db.book"
   ]
  },
  {
   "cell_type": "code",
   "execution_count": 8,
   "id": "58ab9c7a-e116-4a73-9a56-b6a962b4c6b7",
   "metadata": {},
   "outputs": [
    {
     "data": {
      "text/plain": [
       "[{'_id': ObjectId('65bb808753afcf9981a8ddfb'), 'title': 'Name of the wind'},\n",
       " {'_id': ObjectId('65bb823e53afcf9981a8ddfd'), 'title': 'House of dead'},\n",
       " {'_id': ObjectId('65bb823e53afcf9981a8ddfe'), 'title': 'Horror night'},\n",
       " {'_id': ObjectId('65bb823e53afcf9981a8ddff'), 'title': 'best day'},\n",
       " {'_id': ObjectId('65bb823e53afcf9981a8de00'), 'title': 'hosting day'},\n",
       " {'_id': ObjectId('65bb823e53afcf9981a8de01'), 'title': 'hobby'},\n",
       " {'_id': ObjectId('65bb823e53afcf9981a8de02'), 'title': 'host'},\n",
       " {'_id': ObjectId('65bb94a0f09a1872d60dac99'), 'title': 'The dark knight'},\n",
       " {'_id': ObjectId('65bb98857b4a32f2e338c246'), 'title': 'the dark days'},\n",
       " {'_id': ObjectId('65bbaa2bb23577673da92eb9'), 'title': 'The lion King'},\n",
       " {'_id': ObjectId('65bc62fbfdf718a4d68d009b'), 'title': 'Beautiful Lier'},\n",
       " {'_id': ObjectId('65be002576b13aedcce0b9bf'), 'title': 'Sharlok Holmes'},\n",
       " {'_id': ObjectId('65be0aca76b13aedcce0b9c5'), 'title': 'King of the Jungle'},\n",
       " {'_id': ObjectId('65be394020c07585a3f2bf9a'), 'title': 'King of drone'},\n",
       " {'_id': ObjectId('65be8accb34ad0db1e397bf4'), 'title': 'Dengerous Jungle'},\n",
       " {'_id': ObjectId('65be8b64b34ad0db1e397bf5'), 'title': 'life in the sea'},\n",
       " {'_id': ObjectId('65be8cdfb34ad0db1e397bf6'), 'title': 'The holy city'},\n",
       " {'_id': ObjectId('65be8cdfb34ad0db1e397bf7'), 'title': 'The holy book'},\n",
       " {'_id': ObjectId('65be8e64b34ad0db1e397bf8'), 'title': 'Ghost Rider'},\n",
       " {'_id': ObjectId('65be8e64b34ad0db1e397bf9'), 'title': 'The holy Sea'},\n",
       " {'_id': ObjectId('65bee9e3f11dfb1bd8ab177a'), 'title': 'King of Katha'}]"
      ]
     },
     "execution_count": 8,
     "metadata": {},
     "output_type": "execute_result"
    }
   ],
   "source": [
    "[p for p in book.find({}, {\"title\":1})]"
   ]
  },
  {
   "cell_type": "code",
   "execution_count": 11,
   "id": "db722e33-bc1b-4a62-8933-688ec852e2af",
   "metadata": {},
   "outputs": [
    {
     "data": {
      "text/plain": [
       "11"
      ]
     },
     "execution_count": 11,
     "metadata": {},
     "output_type": "execute_result"
    }
   ],
   "source": [
    "book.count_documents({})"
   ]
  },
  {
   "cell_type": "code",
   "execution_count": 18,
   "id": "70504b1f-bafb-428d-93f0-0252bc912d05",
   "metadata": {},
   "outputs": [
    {
     "data": {
      "text/plain": [
       "[{'_id': ObjectId('65bb823e53afcf9981a8ddfd'), 'rating': 9},\n",
       " {'_id': ObjectId('65bb808753afcf9981a8ddfb'), 'rating': 8.9},\n",
       " {'_id': ObjectId('65bb823e53afcf9981a8de02'), 'rating': 8.9},\n",
       " {'_id': ObjectId('65bbaa2bb23577673da92eb9'), 'rating': 8.7},\n",
       " {'_id': ObjectId('65bc62fbfdf718a4d68d009b'), 'rating': 8.7},\n",
       " {'_id': ObjectId('65bb823e53afcf9981a8ddfe'), 'rating': 8.5},\n",
       " {'_id': ObjectId('65bb823e53afcf9981a8ddff'), 'rating': 8.5},\n",
       " {'_id': ObjectId('65be002576b13aedcce0b9bf'), 'rating': 8.5},\n",
       " {'_id': ObjectId('65be8e64b34ad0db1e397bf9'), 'rating': 8.5},\n",
       " {'_id': ObjectId('65bb823e53afcf9981a8de00'), 'rating': 8.2},\n",
       " {'_id': ObjectId('65be8cdfb34ad0db1e397bf7'), 'rating': 8.1}]"
      ]
     },
     "execution_count": 18,
     "metadata": {},
     "output_type": "execute_result"
    }
   ],
   "source": [
    "[p for p in book.find({\"rating\":{\"$gte\":8}},{\"rating\":1}).sort(\"rating\", -1)]"
   ]
  },
  {
   "cell_type": "code",
   "execution_count": 28,
   "id": "67fb6f13-f4af-4aac-b1f0-497eaa7f5637",
   "metadata": {},
   "outputs": [],
   "source": [
    "res_agg = book.aggregate([\n",
    "    {\n",
    "        \"$group\" : {\"_id\" : \"$author\", \"total_pages\":{\"$sum\":\"$pages\"}, \"total_book\" :{\"$sum\": 1}}\n",
    "    }\n",
    "])"
   ]
  },
  {
   "cell_type": "code",
   "execution_count": 29,
   "id": "e37f508f-a842-4b98-b22f-20673dc07964",
   "metadata": {},
   "outputs": [
    {
     "data": {
      "text/plain": [
       "[{'_id': 'Sandy max', 'total_pages': 800, 'total_book': 1},\n",
       " {'_id': 'fredrikh wohler', 'total_pages': 1100, 'total_book': 2},\n",
       " {'_id': 'MaCacny Holmer', 'total_pages': 590, 'total_book': 1},\n",
       " {'_id': 'Mahabub Murshed', 'total_pages': 505, 'total_book': 1},\n",
       " {'_id': 'tom hank', 'total_pages': 1500, 'total_book': 1},\n",
       " {'_id': 'Abdullah bin abdur Razzak', 'total_pages': 1800, 'total_book': 3},\n",
       " {'_id': 'machchinly', 'total_pages': 900, 'total_book': 1},\n",
       " {'_id': 'wasim', 'total_pages': 540, 'total_book': 1},\n",
       " {'_id': 'Tom Herdy', 'total_pages': 2230, 'total_book': 2},\n",
       " {'_id': 'Petrick hammer', 'total_pages': 520, 'total_book': 1},\n",
       " {'_id': 'Stephen Rahat', 'total_pages': 820, 'total_book': 1},\n",
       " {'_id': 'Seliman bobby', 'total_pages': 580, 'total_book': 1},\n",
       " {'_id': 'Arnold holms', 'total_pages': 2700, 'total_book': 3},\n",
       " {'_id': 'Tony Stark', 'total_pages': 2000, 'total_book': 2}]"
      ]
     },
     "execution_count": 29,
     "metadata": {},
     "output_type": "execute_result"
    }
   ],
   "source": [
    "[p for p in res_agg]"
   ]
  },
  {
   "cell_type": "code",
   "execution_count": 30,
   "id": "7e4c93fc-1610-4546-97ae-dba2074fd2cc",
   "metadata": {},
   "outputs": [],
   "source": [
    "books = db.books"
   ]
  },
  {
   "cell_type": "code",
   "execution_count": 32,
   "id": "dcb89cf2-cc00-493c-b192-053e05054e2a",
   "metadata": {},
   "outputs": [
    {
     "data": {
      "text/plain": [
       "12406"
      ]
     },
     "execution_count": 32,
     "metadata": {},
     "output_type": "execute_result"
    }
   ],
   "source": [
    "books.count_documents({})"
   ]
  },
  {
   "cell_type": "code",
   "execution_count": 34,
   "id": "2b1588bc-b6ec-4261-b916-6728788ac5eb",
   "metadata": {},
   "outputs": [
    {
     "data": {
      "text/plain": [
       "[{'_id': ObjectId('65bce93bc23c86f945513710'),\n",
       "  'Country Name': 'Arab World',\n",
       "  'Country Code': 'ARB',\n",
       "  'Year': '1961',\n",
       "  'Value': '98882541.4'}]"
      ]
     },
     "execution_count": 34,
     "metadata": {},
     "output_type": "execute_result"
    }
   ],
   "source": [
    "[p for p in books.find().limit(1)]"
   ]
  },
  {
   "cell_type": "code",
   "execution_count": 56,
   "id": "421ac39e-4430-4e98-953e-ad907a795bc8",
   "metadata": {},
   "outputs": [],
   "source": [
    "for doc in books.find():\n",
    "    new_value = float(doc[\"Value\"])\n",
    "    books.update_one({\"_id\": doc[\"_id\"]}, {\"$set\": {\"Value\": new_value}})"
   ]
  },
  {
   "cell_type": "code",
   "execution_count": 57,
   "id": "d4ec7613-b178-44a5-bb08-fe388a821025",
   "metadata": {},
   "outputs": [],
   "source": [
    "countr_agg = books.aggregate([\n",
    "    {\n",
    "        \"$group\" : {\"_id\":\"$Year\", \"number\":{\"$sum\" : \"$Value\"}}\n",
    "    }\n",
    "])"
   ]
  },
  {
   "cell_type": "code",
   "execution_count": 58,
   "id": "be9527a4-e624-490e-8ff1-7f530019f775",
   "metadata": {},
   "outputs": [
    {
     "data": {
      "text/plain": [
       "[{'_id': '1982', 'number': 31718005478.066696},\n",
       " {'_id': '1967', 'number': 23912447737.26118},\n",
       " {'_id': '1976', 'number': 28537241278.44775},\n",
       " {'_id': '1979', 'number': 30080191655.34102},\n",
       " {'_id': '1983', 'number': 32280282767.92333},\n",
       " {'_id': '1988', 'number': 35227707775.24679},\n",
       " {'_id': '1993', 'number': 38189329840.79857},\n",
       " {'_id': '1981', 'number': 31159808129.509132},\n",
       " {'_id': '1985', 'number': 33413820575.783573},\n",
       " {'_id': '1999', 'number': 41554470523.78017},\n",
       " {'_id': '2004', 'number': 44245894471.652405},\n",
       " {'_id': '2006', 'number': 45322080726.51143},\n",
       " {'_id': '1975', 'number': 28033881378.988277},\n",
       " {'_id': '2008', 'number': 46413193563.92479},\n",
       " {'_id': '1991', 'number': 37046827487.82593},\n",
       " {'_id': '2010', 'number': 47510783298.28755},\n",
       " {'_id': '1961', 'number': 21231213543.50836},\n",
       " {'_id': '1977', 'number': 29040986971.870544},\n",
       " {'_id': '1972', 'number': 26479485806.572075},\n",
       " {'_id': '1973', 'number': 26997622778.82573},\n",
       " {'_id': '1970', 'number': 25425401769.0},\n",
       " {'_id': '1994', 'number': 38754083160.019295},\n",
       " {'_id': '1998', 'number': 41005553844.835655},\n",
       " {'_id': '2003', 'number': 43710535073.554115},\n",
       " {'_id': '1962', 'number': 21594112910.931614},\n",
       " {'_id': '1989', 'number': 35838312755.91224},\n",
       " {'_id': '2002', 'number': 43176925217.66419},\n",
       " {'_id': '1960', 'number': 20856432769.0},\n",
       " {'_id': '2001', 'number': 42643752677.31925},\n",
       " {'_id': '1996', 'number': 39887098259.8388},\n",
       " {'_id': '2009', 'number': 46962010038.98361},\n",
       " {'_id': '1987', 'number': 34613932072.31456},\n",
       " {'_id': '1971', 'number': 25954742157.23663},\n",
       " {'_id': '1963', 'number': 22041364335.51482},\n",
       " {'_id': '1964', 'number': 22491139537.09839},\n",
       " {'_id': '1978', 'number': 29555069258.397957},\n",
       " {'_id': '1995', 'number': 39326966192.78881},\n",
       " {'_id': '1980', 'number': 30619286552.335426},\n",
       " {'_id': '1984', 'number': 32840732860.79312},\n",
       " {'_id': '1966', 'number': 23432714222.919247},\n",
       " {'_id': '1965', 'number': 22950789602.0},\n",
       " {'_id': '1968', 'number': 24397765026.094826},\n",
       " {'_id': '1990', 'number': 36450755566.22735},\n",
       " {'_id': '1997', 'number': 40448968870.35197},\n",
       " {'_id': '1986', 'number': 34006110813.994602},\n",
       " {'_id': '1992', 'number': 37616980942.27487},\n",
       " {'_id': '2000', 'number': 42104033438.19309},\n",
       " {'_id': '2005', 'number': 44783441441.0578},\n",
       " {'_id': '2007', 'number': 45865159518.24319},\n",
       " {'_id': '1969', 'number': 24909967113.145573},\n",
       " {'_id': '1974', 'number': 27520264682.876022}]"
      ]
     },
     "execution_count": 58,
     "metadata": {},
     "output_type": "execute_result"
    }
   ],
   "source": [
    "[p for p in countr_agg]"
   ]
  },
  {
   "cell_type": "code",
   "execution_count": null,
   "id": "462f1560-54f7-4c5e-8905-ad118dd9f125",
   "metadata": {},
   "outputs": [],
   "source": []
  }
 ],
 "metadata": {
  "kernelspec": {
   "display_name": "Python 3 (ipykernel)",
   "language": "python",
   "name": "python3"
  },
  "language_info": {
   "codemirror_mode": {
    "name": "ipython",
    "version": 3
   },
   "file_extension": ".py",
   "mimetype": "text/x-python",
   "name": "python",
   "nbconvert_exporter": "python",
   "pygments_lexer": "ipython3",
   "version": "3.10.11"
  }
 },
 "nbformat": 4,
 "nbformat_minor": 5
}
