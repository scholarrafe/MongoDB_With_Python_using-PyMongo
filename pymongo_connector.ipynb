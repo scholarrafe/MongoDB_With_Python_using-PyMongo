{
 "cells": [
  {
   "cell_type": "code",
   "execution_count": 3,
   "id": "3a826ae8-65ab-4d27-8111-6f43d3cb43ce",
   "metadata": {},
   "outputs": [],
   "source": [
    "import pandas as pd\n",
    "import numpy as np\n",
    "from pymongo import MongoClient\n",
    "from bson.objectid import ObjectId"
   ]
  },
  {
   "cell_type": "code",
   "execution_count": 4,
   "id": "97a3658a-8b8b-4d19-8030-9b665fab219f",
   "metadata": {},
   "outputs": [],
   "source": [
    "client = MongoClient('mongodb://127.0.0.1:27017/?directConnection=true&serverSelectionTimeoutMS=2000')"
   ]
  },
  {
   "cell_type": "code",
   "execution_count": 14,
   "id": "a6ef0acd-7305-43c7-b46a-f8004af13111",
   "metadata": {},
   "outputs": [],
   "source": [
    "db = client.first_mongo\n",
    "book = db.book"
   ]
  },
  {
   "cell_type": "code",
   "execution_count": 22,
   "id": "d515c491-cf03-4d55-a2a5-18fd203b766a",
   "metadata": {},
   "outputs": [
    {
     "name": "stdout",
     "output_type": "stream",
     "text": [
      "{'_id': ObjectId('65bbaa2bb23577673da92eb9'), 'title': 'The lion King'}\n",
      "{'_id': ObjectId('65be002576b13aedcce0b9bf'), 'title': 'Sharlok Holmes'}\n",
      "{'_id': ObjectId('65bc62fbfdf718a4d68d009b'), 'title': 'Beautiful Lier'}\n",
      "{'_id': ObjectId('65bb98857b4a32f2e338c246'), 'title': 'the dark days'}\n",
      "{'_id': ObjectId('65bb823e53afcf9981a8de00'), 'title': 'hosting day'}\n"
     ]
    }
   ],
   "source": [
    "for p in book.find({},{'title':1}).sort(\"pages\", -1).limit(5):\n",
    "    print(p)"
   ]
  },
  {
   "cell_type": "code",
   "execution_count": 27,
   "id": "228218b9-fdeb-480f-95da-1593d0058f96",
   "metadata": {},
   "outputs": [
    {
     "data": {
      "text/plain": [
       "[{'_id': ObjectId('65bb808753afcf9981a8ddfb'),\n",
       "  'author': 'Abdullah bin abdur Razzak',\n",
       "  'pages': 500,\n",
       "  'genres': ['fantasy', 'magical', 'sci-fi'],\n",
       "  'rating': 8.9,\n",
       "  'title': 'Name of the wind'},\n",
       " {'_id': ObjectId('65bb823e53afcf9981a8ddfd'),\n",
       "  'author': 'fredrikh wohler',\n",
       "  'pages': 500,\n",
       "  'genres': ['motivational', 'magical'],\n",
       "  'rating': 9,\n",
       "  'title': 'House of dead'},\n",
       " {'_id': ObjectId('65bb823e53afcf9981a8ddfe'),\n",
       "  'author': 'Petrick hammer',\n",
       "  'pages': 520,\n",
       "  'genres': ['fight', 'war'],\n",
       "  'rating': 8.5,\n",
       "  'title': 'Horror night'},\n",
       " {'_id': ObjectId('65bb823e53afcf9981a8ddff'),\n",
       "  'author': 'Mahabub Murshed',\n",
       "  'pages': 505,\n",
       "  'genres': ['emotion', 'relation'],\n",
       "  'rating': 8.5,\n",
       "  'title': 'best day'},\n",
       " {'_id': ObjectId('65bb823e53afcf9981a8de00'),\n",
       "  'author': 'Sandy max',\n",
       "  'pages': 800,\n",
       "  'genres': ['thriller', 'magical'],\n",
       "  'rating': 8.2,\n",
       "  'title': 'hosting day'},\n",
       " {'_id': ObjectId('65bb823e53afcf9981a8de01'),\n",
       "  'author': 'Seliman bobby',\n",
       "  'pages': 580,\n",
       "  'genres': ['horror', 'bloody'],\n",
       "  'rating': 7.5,\n",
       "  'title': 'hobby'},\n",
       " {'_id': ObjectId('65bb823e53afcf9981a8de02'),\n",
       "  'author': 'MaCacny Holmer',\n",
       "  'pages': 590,\n",
       "  'genres': ['fantasy', 'hosto'],\n",
       "  'rating': 8.9,\n",
       "  'title': 'host'},\n",
       " {'_id': ObjectId('65bb94a0f09a1872d60dac99'),\n",
       "  'title': 'The dark knight',\n",
       "  'author': 'wasim',\n",
       "  'rating': 7.8,\n",
       "  'genres': ['host', 'fost'],\n",
       "  'pages': 540},\n",
       " {'_id': ObjectId('65bb98857b4a32f2e338c246'),\n",
       "  'title': 'the dark days',\n",
       "  'rating': 7.6,\n",
       "  'genres': ['fun', 'magic'],\n",
       "  'author': 'machchinly',\n",
       "  'pages': 900},\n",
       " {'_id': ObjectId('65bbaa2bb23577673da92eb9'),\n",
       "  'title': 'The lion King',\n",
       "  'author': 'tom hank',\n",
       "  'pages': 1500,\n",
       "  'genres': ['adventure', 'thriller'],\n",
       "  'rating': 8.7},\n",
       " {'_id': ObjectId('65bc62fbfdf718a4d68d009b'),\n",
       "  'title': 'Beautiful Lier',\n",
       "  'author': 'Arnold holms',\n",
       "  'genres': 'thriller',\n",
       "  'pages': 1200,\n",
       "  'rating': 8.7},\n",
       " {'_id': ObjectId('65be002576b13aedcce0b9bf'),\n",
       "  'author': 'Tom Herdy',\n",
       "  'pages': 1250,\n",
       "  'rating': 8.5,\n",
       "  'title': 'Sharlok Holmes',\n",
       "  'genres': ['Horror', 'Mystery']},\n",
       " {'_id': ObjectId('65be0aca76b13aedcce0b9c5'),\n",
       "  'author': 'Tony Stark',\n",
       "  'pages': 750,\n",
       "  'rating': 7.8,\n",
       "  'title': 'King of the Jungle',\n",
       "  'genres': ['Thriller', 'Sci-fi']}]"
      ]
     },
     "execution_count": 27,
     "metadata": {},
     "output_type": "execute_result"
    }
   ],
   "source": [
    "[p for p in book.find()]"
   ]
  },
  {
   "cell_type": "code",
   "execution_count": 28,
   "id": "9c9ad509-1cdb-4ef3-8f8d-eeb2a0f110b3",
   "metadata": {},
   "outputs": [
    {
     "data": {
      "text/plain": [
       "InsertOneResult(ObjectId('65be394020c07585a3f2bf9a'), acknowledged=True)"
      ]
     },
     "execution_count": 28,
     "metadata": {},
     "output_type": "execute_result"
    }
   ],
   "source": [
    "book.insert_one({\n",
    "    'author': 'Stephen Rahat',\n",
    "  'pages': 820,\n",
    "  'rating': 7.3,\n",
    "  'title': 'King of drone',\n",
    "  'genres': ['Thriller', 'motivational']\n",
    "})"
   ]
  },
  {
   "cell_type": "code",
   "execution_count": 37,
   "id": "5b94bbeb-b2fd-4de5-8e60-b07b5fef5f5a",
   "metadata": {},
   "outputs": [
    {
     "data": {
      "text/plain": [
       "[{'_id': ObjectId('65bb808753afcf9981a8ddfb'),\n",
       "  'author': 'Abdullah bin abdur Razzak',\n",
       "  'pages': 500,\n",
       "  'genres': ['fantasy', 'magical', 'sci-fi'],\n",
       "  'rating': 8.9,\n",
       "  'title': 'Name of the wind'},\n",
       " {'_id': ObjectId('65bb823e53afcf9981a8ddfd'),\n",
       "  'author': 'fredrikh wohler',\n",
       "  'pages': 500,\n",
       "  'genres': ['motivational', 'magical'],\n",
       "  'rating': 9,\n",
       "  'title': 'House of dead'},\n",
       " {'_id': ObjectId('65bb823e53afcf9981a8ddfe'),\n",
       "  'author': 'Petrick hammer',\n",
       "  'pages': 520,\n",
       "  'genres': ['fight', 'war'],\n",
       "  'rating': 8.5,\n",
       "  'title': 'Horror night'},\n",
       " {'_id': ObjectId('65bb823e53afcf9981a8ddff'),\n",
       "  'author': 'Mahabub Murshed',\n",
       "  'pages': 505,\n",
       "  'genres': ['emotion', 'relation'],\n",
       "  'rating': 8.5,\n",
       "  'title': 'best day'},\n",
       " {'_id': ObjectId('65bb823e53afcf9981a8de00'),\n",
       "  'author': 'Sandy max',\n",
       "  'pages': 800,\n",
       "  'genres': ['thriller', 'magical'],\n",
       "  'rating': 8.2,\n",
       "  'title': 'hosting day'},\n",
       " {'_id': ObjectId('65bb823e53afcf9981a8de01'),\n",
       "  'author': 'Seliman bobby',\n",
       "  'pages': 580,\n",
       "  'genres': ['horror', 'bloody'],\n",
       "  'rating': 7.5,\n",
       "  'title': 'hobby'},\n",
       " {'_id': ObjectId('65bb823e53afcf9981a8de02'),\n",
       "  'author': 'MaCacny Holmer',\n",
       "  'pages': 590,\n",
       "  'genres': ['fantasy', 'hosto'],\n",
       "  'rating': 8.9,\n",
       "  'title': 'host'},\n",
       " {'_id': ObjectId('65bb94a0f09a1872d60dac99'),\n",
       "  'title': 'The dark knight',\n",
       "  'author': 'wasim',\n",
       "  'rating': 7.8,\n",
       "  'genres': ['host', 'fost'],\n",
       "  'pages': 540},\n",
       " {'_id': ObjectId('65bb98857b4a32f2e338c246'),\n",
       "  'title': 'the dark days',\n",
       "  'rating': 7.6,\n",
       "  'genres': ['fun', 'magic'],\n",
       "  'author': 'machchinly',\n",
       "  'pages': 900},\n",
       " {'_id': ObjectId('65bbaa2bb23577673da92eb9'),\n",
       "  'title': 'The lion King',\n",
       "  'author': 'tom hank',\n",
       "  'pages': 1500,\n",
       "  'genres': ['adventure', 'thriller'],\n",
       "  'rating': 8.7},\n",
       " {'_id': ObjectId('65bc62fbfdf718a4d68d009b'),\n",
       "  'title': 'Beautiful Lier',\n",
       "  'author': 'Arnold holms',\n",
       "  'genres': 'thriller',\n",
       "  'pages': 1200,\n",
       "  'rating': 8.7},\n",
       " {'_id': ObjectId('65be002576b13aedcce0b9bf'),\n",
       "  'author': 'Tom Herdy',\n",
       "  'pages': 1250,\n",
       "  'rating': 8.5,\n",
       "  'title': 'Sharlok Holmes',\n",
       "  'genres': ['Horror', 'Mystery']},\n",
       " {'_id': ObjectId('65be0aca76b13aedcce0b9c5'),\n",
       "  'author': 'Tony Stark',\n",
       "  'pages': 750,\n",
       "  'rating': 7.8,\n",
       "  'title': 'King of the Jungle',\n",
       "  'genres': ['Thriller', 'Sci-fi']},\n",
       " {'_id': ObjectId('65be394020c07585a3f2bf9a'),\n",
       "  'author': 'Stephen Rahat',\n",
       "  'pages': 820,\n",
       "  'rating': 7.3,\n",
       "  'title': 'King of drone',\n",
       "  'genres': ['Thriller', 'motivational']}]"
      ]
     },
     "execution_count": 37,
     "metadata": {},
     "output_type": "execute_result"
    }
   ],
   "source": [
    "[p for p in book.find()]"
   ]
  },
  {
   "cell_type": "code",
   "execution_count": 38,
   "id": "2708bc6b-44d6-4de1-adb1-6492767541fa",
   "metadata": {},
   "outputs": [
    {
     "data": {
      "text/plain": [
       "UpdateResult({'n': 1, 'nModified': 1, 'ok': 1.0, 'updatedExisting': True}, acknowledged=True)"
      ]
     },
     "execution_count": 38,
     "metadata": {},
     "output_type": "execute_result"
    }
   ],
   "source": [
    "book.update_one({'_id': ObjectId('65be394020c07585a3f2bf9a')},{\"$pull\":{\"genres\":\"Thriller\"}})"
   ]
  },
  {
   "cell_type": "code",
   "execution_count": 44,
   "id": "16798cd7-ed57-4e3e-9477-1fb7b5b682ab",
   "metadata": {},
   "outputs": [
    {
     "data": {
      "text/plain": [
       "[{'_id': ObjectId('65be394020c07585a3f2bf9a'),\n",
       "  'author': 'Stephen Rahat',\n",
       "  'pages': 820,\n",
       "  'rating': 7.3,\n",
       "  'title': 'King of drone',\n",
       "  'genres': ['motivational']}]"
      ]
     },
     "execution_count": 44,
     "metadata": {},
     "output_type": "execute_result"
    }
   ],
   "source": [
    "[p for p in book.find({'_id': ObjectId('65be394020c07585a3f2bf9a')})]"
   ]
  },
  {
   "cell_type": "code",
   "execution_count": 45,
   "id": "239c6537-15ed-4bec-a222-51535e4c7257",
   "metadata": {},
   "outputs": [
    {
     "data": {
      "text/plain": [
       "UpdateResult({'n': 1, 'nModified': 1, 'ok': 1.0, 'updatedExisting': True}, acknowledged=True)"
      ]
     },
     "execution_count": 45,
     "metadata": {},
     "output_type": "execute_result"
    }
   ],
   "source": [
    "book.update_one({'_id': ObjectId('65be394020c07585a3f2bf9a')},{\"$push\": {\"genres\":\"Thriller\"}})"
   ]
  },
  {
   "cell_type": "code",
   "execution_count": 46,
   "id": "3430874e-4e73-4321-a8da-26a113c2d12d",
   "metadata": {},
   "outputs": [
    {
     "data": {
      "text/plain": [
       "[{'_id': ObjectId('65be394020c07585a3f2bf9a'),\n",
       "  'author': 'Stephen Rahat',\n",
       "  'pages': 820,\n",
       "  'rating': 7.3,\n",
       "  'title': 'King of drone',\n",
       "  'genres': ['motivational', 'Thriller']}]"
      ]
     },
     "execution_count": 46,
     "metadata": {},
     "output_type": "execute_result"
    }
   ],
   "source": [
    "[p for p in book.find({'_id': ObjectId('65be394020c07585a3f2bf9a')})]"
   ]
  },
  {
   "cell_type": "code",
   "execution_count": 47,
   "id": "d10582e1-a19a-436a-8d11-847ce2e63c1a",
   "metadata": {},
   "outputs": [
    {
     "data": {
      "text/plain": [
       "UpdateResult({'n': 1, 'nModified': 1, 'ok': 1.0, 'updatedExisting': True}, acknowledged=True)"
      ]
     },
     "execution_count": 47,
     "metadata": {},
     "output_type": "execute_result"
    }
   ],
   "source": [
    "book.update_one({'_id': ObjectId('65be394020c07585a3f2bf9a')}, {\"$unset\":{\"genres\":\"\"}})"
   ]
  },
  {
   "cell_type": "code",
   "execution_count": 48,
   "id": "1392d15b-afb3-4704-a02a-b65e697fbab4",
   "metadata": {},
   "outputs": [
    {
     "data": {
      "text/plain": [
       "[{'_id': ObjectId('65be394020c07585a3f2bf9a'),\n",
       "  'author': 'Stephen Rahat',\n",
       "  'pages': 820,\n",
       "  'rating': 7.3,\n",
       "  'title': 'King of drone'}]"
      ]
     },
     "execution_count": 48,
     "metadata": {},
     "output_type": "execute_result"
    }
   ],
   "source": [
    "[p for p in book.find({'_id': ObjectId('65be394020c07585a3f2bf9a')})]"
   ]
  },
  {
   "cell_type": "code",
   "execution_count": 49,
   "id": "7b03a735-255d-4141-876f-67b99c43bb62",
   "metadata": {},
   "outputs": [
    {
     "data": {
      "text/plain": [
       "UpdateResult({'n': 1, 'nModified': 1, 'ok': 1.0, 'updatedExisting': True}, acknowledged=True)"
      ]
     },
     "execution_count": 49,
     "metadata": {},
     "output_type": "execute_result"
    }
   ],
   "source": [
    "book.update_one({'_id': ObjectId('65be394020c07585a3f2bf9a')}, {\"$set\":{\"genres\":['motivational', 'Thriller']}})"
   ]
  },
  {
   "cell_type": "code",
   "execution_count": 50,
   "id": "8cce72f3-7acc-4b13-88e8-f35f3fa24949",
   "metadata": {},
   "outputs": [
    {
     "data": {
      "text/plain": [
       "[{'_id': ObjectId('65be394020c07585a3f2bf9a'),\n",
       "  'author': 'Stephen Rahat',\n",
       "  'pages': 820,\n",
       "  'rating': 7.3,\n",
       "  'title': 'King of drone',\n",
       "  'genres': ['motivational', 'Thriller']}]"
      ]
     },
     "execution_count": 50,
     "metadata": {},
     "output_type": "execute_result"
    }
   ],
   "source": [
    "[p for p in book.find({'_id': ObjectId('65be394020c07585a3f2bf9a')})]"
   ]
  },
  {
   "cell_type": "code",
   "execution_count": 55,
   "id": "ddccc8ac-01f5-4440-a15d-d69fde8ec93e",
   "metadata": {},
   "outputs": [
    {
     "data": {
      "text/plain": [
       "[{'_id': ObjectId('65bb808753afcf9981a8ddfb'),\n",
       "  'genres': ['fantasy', 'magical', 'sci-fi']},\n",
       " {'_id': ObjectId('65bb823e53afcf9981a8ddfd'),\n",
       "  'genres': ['motivational', 'magical']},\n",
       " {'_id': ObjectId('65bb823e53afcf9981a8ddfe'), 'genres': ['fight', 'war']},\n",
       " {'_id': ObjectId('65bb823e53afcf9981a8ddff'),\n",
       "  'genres': ['emotion', 'relation']},\n",
       " {'_id': ObjectId('65bb823e53afcf9981a8de00'),\n",
       "  'genres': ['thriller', 'magical']},\n",
       " {'_id': ObjectId('65bb823e53afcf9981a8de01'), 'genres': ['horror', 'bloody']},\n",
       " {'_id': ObjectId('65bb823e53afcf9981a8de02'), 'genres': ['fantasy', 'hosto']},\n",
       " {'_id': ObjectId('65bb94a0f09a1872d60dac99'), 'genres': ['host', 'fost']},\n",
       " {'_id': ObjectId('65bb98857b4a32f2e338c246'), 'genres': ['fun', 'magic']},\n",
       " {'_id': ObjectId('65bbaa2bb23577673da92eb9'),\n",
       "  'genres': ['adventure', 'thriller']},\n",
       " {'_id': ObjectId('65bc62fbfdf718a4d68d009b'), 'genres': 'thriller'},\n",
       " {'_id': ObjectId('65be002576b13aedcce0b9bf'),\n",
       "  'genres': ['Horror', 'Mystery']},\n",
       " {'_id': ObjectId('65be0aca76b13aedcce0b9c5'),\n",
       "  'genres': ['Thriller', 'Sci-fi']},\n",
       " {'_id': ObjectId('65be394020c07585a3f2bf9a'),\n",
       "  'genres': ['motivational', 'Thriller']}]"
      ]
     },
     "execution_count": 55,
     "metadata": {},
     "output_type": "execute_result"
    }
   ],
   "source": [
    "[p for p in book.find({},{'genres':1})]"
   ]
  },
  {
   "cell_type": "code",
   "execution_count": 56,
   "id": "3540c3ae-5450-49ad-a76e-b71f38635bfc",
   "metadata": {},
   "outputs": [
    {
     "ename": "SyntaxError",
     "evalue": "unterminated string literal (detected at line 1) (2650684721.py, line 1)",
     "output_type": "error",
     "traceback": [
      "\u001b[1;36m  Cell \u001b[1;32mIn[56], line 1\u001b[1;36m\u001b[0m\n\u001b[1;33m    book.update_one({'_id': ObjectId('65bc62fbfdf718a4d68d009b')},{\"$all\":{\"genres':['Thriller', 'Magical']}})\u001b[0m\n\u001b[1;37m                                                                           ^\u001b[0m\n\u001b[1;31mSyntaxError\u001b[0m\u001b[1;31m:\u001b[0m unterminated string literal (detected at line 1)\n"
     ]
    }
   ],
   "source": [
    "book.update_one({'_id': ObjectId('65bc62fbfdf718a4d68d009b')},{\"$all\":{\"genres':['Thriller', 'Magical']}})"
   ]
  },
  {
   "cell_type": "code",
   "execution_count": null,
   "id": "e8414a1e-aa81-4d9a-9e4b-e2026071a20a",
   "metadata": {},
   "outputs": [],
   "source": []
  }
 ],
 "metadata": {
  "kernelspec": {
   "display_name": "Python 3 (ipykernel)",
   "language": "python",
   "name": "python3"
  },
  "language_info": {
   "codemirror_mode": {
    "name": "ipython",
    "version": 3
   },
   "file_extension": ".py",
   "mimetype": "text/x-python",
   "name": "python",
   "nbconvert_exporter": "python",
   "pygments_lexer": "ipython3",
   "version": "3.10.11"
  }
 },
 "nbformat": 4,
 "nbformat_minor": 5
}
